{
  "nbformat": 4,
  "nbformat_minor": 0,
  "metadata": {
    "colab": {
      "provenance": []
    },
    "kernelspec": {
      "name": "python3",
      "display_name": "Python 3"
    },
    "language_info": {
      "name": "python"
    }
  },
  "cells": [
    {
      "cell_type": "code",
      "source": [
        "!pip install autoviz"
      ],
      "metadata": {
        "id": "2WaMWYEaMyFC",
        "colab": {
          "base_uri": "https://localhost:8080/"
        },
        "collapsed": true,
        "outputId": "158351e4-7c02-411e-d478-fb6f384658a4"
      },
      "execution_count": null,
      "outputs": [
        {
          "output_type": "stream",
          "name": "stdout",
          "text": [
            "Collecting autoviz\n",
            "  Downloading autoviz-0.1.905-py3-none-any.whl.metadata (14 kB)\n",
            "Requirement already satisfied: xlrd in /usr/local/lib/python3.11/dist-packages (from autoviz) (2.0.1)\n",
            "Requirement already satisfied: wordcloud in /usr/local/lib/python3.11/dist-packages (from autoviz) (1.9.4)\n",
            "Collecting emoji (from autoviz)\n",
            "  Downloading emoji-2.14.1-py3-none-any.whl.metadata (5.7 kB)\n",
            "Collecting pyamg (from autoviz)\n",
            "  Downloading pyamg-5.2.1-cp311-cp311-manylinux_2_17_x86_64.manylinux2014_x86_64.whl.metadata (8.1 kB)\n",
            "Requirement already satisfied: scikit-learn in /usr/local/lib/python3.11/dist-packages (from autoviz) (1.6.1)\n",
            "Requirement already satisfied: statsmodels in /usr/local/lib/python3.11/dist-packages (from autoviz) (0.14.4)\n",
            "Requirement already satisfied: nltk in /usr/local/lib/python3.11/dist-packages (from autoviz) (3.9.1)\n",
            "Requirement already satisfied: textblob in /usr/local/lib/python3.11/dist-packages (from autoviz) (0.19.0)\n",
            "Collecting xgboost<1.7,>=0.82 (from autoviz)\n",
            "  Downloading xgboost-1.6.2-py3-none-manylinux2014_x86_64.whl.metadata (1.8 kB)\n",
            "Requirement already satisfied: fsspec>=0.8.3 in /usr/local/lib/python3.11/dist-packages (from autoviz) (2024.10.0)\n",
            "Requirement already satisfied: typing-extensions>=4.1.1 in /usr/local/lib/python3.11/dist-packages (from autoviz) (4.12.2)\n",
            "Collecting pandas-dq>=1.29 (from autoviz)\n",
            "  Downloading pandas_dq-1.29-py3-none-any.whl.metadata (19 kB)\n",
            "Requirement already satisfied: numpy>=1.24.0 in /usr/local/lib/python3.11/dist-packages (from autoviz) (1.26.4)\n",
            "Collecting hvplot>=0.9.2 (from autoviz)\n",
            "  Downloading hvplot-0.11.2-py3-none-any.whl.metadata (15 kB)\n",
            "Requirement already satisfied: holoviews>=1.16.0 in /usr/local/lib/python3.11/dist-packages (from autoviz) (1.20.1)\n",
            "Requirement already satisfied: panel>=1.4.0 in /usr/local/lib/python3.11/dist-packages (from autoviz) (1.6.1)\n",
            "Requirement already satisfied: pandas>=2.0 in /usr/local/lib/python3.11/dist-packages (from autoviz) (2.2.2)\n",
            "Requirement already satisfied: matplotlib>3.7.4 in /usr/local/lib/python3.11/dist-packages (from autoviz) (3.10.0)\n",
            "Requirement already satisfied: seaborn>0.12.2 in /usr/local/lib/python3.11/dist-packages (from autoviz) (0.13.2)\n",
            "Requirement already satisfied: bokeh>=3.1 in /usr/local/lib/python3.11/dist-packages (from holoviews>=1.16.0->autoviz) (3.6.3)\n",
            "Requirement already satisfied: colorcet in /usr/local/lib/python3.11/dist-packages (from holoviews>=1.16.0->autoviz) (3.1.0)\n",
            "Requirement already satisfied: packaging in /usr/local/lib/python3.11/dist-packages (from holoviews>=1.16.0->autoviz) (24.2)\n",
            "Requirement already satisfied: param<3.0,>=2.0 in /usr/local/lib/python3.11/dist-packages (from holoviews>=1.16.0->autoviz) (2.2.0)\n",
            "Requirement already satisfied: pyviz-comms>=2.1 in /usr/local/lib/python3.11/dist-packages (from holoviews>=1.16.0->autoviz) (3.0.4)\n",
            "Requirement already satisfied: contourpy>=1.0.1 in /usr/local/lib/python3.11/dist-packages (from matplotlib>3.7.4->autoviz) (1.3.1)\n",
            "Requirement already satisfied: cycler>=0.10 in /usr/local/lib/python3.11/dist-packages (from matplotlib>3.7.4->autoviz) (0.12.1)\n",
            "Requirement already satisfied: fonttools>=4.22.0 in /usr/local/lib/python3.11/dist-packages (from matplotlib>3.7.4->autoviz) (4.56.0)\n",
            "Requirement already satisfied: kiwisolver>=1.3.1 in /usr/local/lib/python3.11/dist-packages (from matplotlib>3.7.4->autoviz) (1.4.8)\n",
            "Requirement already satisfied: pillow>=8 in /usr/local/lib/python3.11/dist-packages (from matplotlib>3.7.4->autoviz) (11.1.0)\n",
            "Requirement already satisfied: pyparsing>=2.3.1 in /usr/local/lib/python3.11/dist-packages (from matplotlib>3.7.4->autoviz) (3.2.1)\n",
            "Requirement already satisfied: python-dateutil>=2.7 in /usr/local/lib/python3.11/dist-packages (from matplotlib>3.7.4->autoviz) (2.8.2)\n",
            "Requirement already satisfied: pytz>=2020.1 in /usr/local/lib/python3.11/dist-packages (from pandas>=2.0->autoviz) (2025.1)\n",
            "Requirement already satisfied: tzdata>=2022.7 in /usr/local/lib/python3.11/dist-packages (from pandas>=2.0->autoviz) (2025.1)\n",
            "Requirement already satisfied: bleach in /usr/local/lib/python3.11/dist-packages (from panel>=1.4.0->autoviz) (6.2.0)\n",
            "Requirement already satisfied: linkify-it-py in /usr/local/lib/python3.11/dist-packages (from panel>=1.4.0->autoviz) (2.0.3)\n",
            "Requirement already satisfied: markdown in /usr/local/lib/python3.11/dist-packages (from panel>=1.4.0->autoviz) (3.7)\n",
            "Requirement already satisfied: markdown-it-py in /usr/local/lib/python3.11/dist-packages (from panel>=1.4.0->autoviz) (3.0.0)\n",
            "Requirement already satisfied: mdit-py-plugins in /usr/local/lib/python3.11/dist-packages (from panel>=1.4.0->autoviz) (0.4.2)\n",
            "Requirement already satisfied: requests in /usr/local/lib/python3.11/dist-packages (from panel>=1.4.0->autoviz) (2.32.3)\n",
            "Requirement already satisfied: tqdm in /usr/local/lib/python3.11/dist-packages (from panel>=1.4.0->autoviz) (4.67.1)\n",
            "Requirement already satisfied: scipy>=1.6.0 in /usr/local/lib/python3.11/dist-packages (from scikit-learn->autoviz) (1.13.1)\n",
            "Requirement already satisfied: joblib>=1.2.0 in /usr/local/lib/python3.11/dist-packages (from scikit-learn->autoviz) (1.4.2)\n",
            "Requirement already satisfied: threadpoolctl>=3.1.0 in /usr/local/lib/python3.11/dist-packages (from scikit-learn->autoviz) (3.5.0)\n",
            "Requirement already satisfied: click in /usr/local/lib/python3.11/dist-packages (from nltk->autoviz) (8.1.8)\n",
            "Requirement already satisfied: regex>=2021.8.3 in /usr/local/lib/python3.11/dist-packages (from nltk->autoviz) (2024.11.6)\n",
            "Requirement already satisfied: patsy>=0.5.6 in /usr/local/lib/python3.11/dist-packages (from statsmodels->autoviz) (1.0.1)\n",
            "Requirement already satisfied: Jinja2>=2.9 in /usr/local/lib/python3.11/dist-packages (from bokeh>=3.1->holoviews>=1.16.0->autoviz) (3.1.5)\n",
            "Requirement already satisfied: PyYAML>=3.10 in /usr/local/lib/python3.11/dist-packages (from bokeh>=3.1->holoviews>=1.16.0->autoviz) (6.0.2)\n",
            "Requirement already satisfied: tornado>=6.2 in /usr/local/lib/python3.11/dist-packages (from bokeh>=3.1->holoviews>=1.16.0->autoviz) (6.4.2)\n",
            "Requirement already satisfied: xyzservices>=2021.09.1 in /usr/local/lib/python3.11/dist-packages (from bokeh>=3.1->holoviews>=1.16.0->autoviz) (2025.1.0)\n",
            "Requirement already satisfied: six>=1.5 in /usr/local/lib/python3.11/dist-packages (from python-dateutil>=2.7->matplotlib>3.7.4->autoviz) (1.17.0)\n",
            "Requirement already satisfied: webencodings in /usr/local/lib/python3.11/dist-packages (from bleach->panel>=1.4.0->autoviz) (0.5.1)\n",
            "Requirement already satisfied: uc-micro-py in /usr/local/lib/python3.11/dist-packages (from linkify-it-py->panel>=1.4.0->autoviz) (1.0.3)\n",
            "Requirement already satisfied: mdurl~=0.1 in /usr/local/lib/python3.11/dist-packages (from markdown-it-py->panel>=1.4.0->autoviz) (0.1.2)\n",
            "Requirement already satisfied: charset-normalizer<4,>=2 in /usr/local/lib/python3.11/dist-packages (from requests->panel>=1.4.0->autoviz) (3.4.1)\n",
            "Requirement already satisfied: idna<4,>=2.5 in /usr/local/lib/python3.11/dist-packages (from requests->panel>=1.4.0->autoviz) (3.10)\n",
            "Requirement already satisfied: urllib3<3,>=1.21.1 in /usr/local/lib/python3.11/dist-packages (from requests->panel>=1.4.0->autoviz) (2.3.0)\n",
            "Requirement already satisfied: certifi>=2017.4.17 in /usr/local/lib/python3.11/dist-packages (from requests->panel>=1.4.0->autoviz) (2025.1.31)\n",
            "Requirement already satisfied: MarkupSafe>=2.0 in /usr/local/lib/python3.11/dist-packages (from Jinja2>=2.9->bokeh>=3.1->holoviews>=1.16.0->autoviz) (3.0.2)\n",
            "Downloading autoviz-0.1.905-py3-none-any.whl (67 kB)\n",
            "\u001b[2K   \u001b[90m━━━━━━━━━━━━━━━━━━━━━━━━━━━━━━━━━━━━━━━━\u001b[0m \u001b[32m67.5/67.5 kB\u001b[0m \u001b[31m2.7 MB/s\u001b[0m eta \u001b[36m0:00:00\u001b[0m\n",
            "\u001b[?25hDownloading hvplot-0.11.2-py3-none-any.whl (161 kB)\n",
            "\u001b[2K   \u001b[90m━━━━━━━━━━━━━━━━━━━━━━━━━━━━━━━━━━━━━━━━\u001b[0m \u001b[32m161.9/161.9 kB\u001b[0m \u001b[31m2.0 MB/s\u001b[0m eta \u001b[36m0:00:00\u001b[0m\n",
            "\u001b[?25hDownloading pandas_dq-1.29-py3-none-any.whl (29 kB)\n",
            "Downloading xgboost-1.6.2-py3-none-manylinux2014_x86_64.whl (255.9 MB)\n",
            "\u001b[2K   \u001b[90m━━━━━━━━━━━━━━━━━━━━━━━━━━━━━━━━━━━━━━━━\u001b[0m \u001b[32m255.9/255.9 MB\u001b[0m \u001b[31m3.7 MB/s\u001b[0m eta \u001b[36m0:00:00\u001b[0m\n",
            "\u001b[?25hDownloading emoji-2.14.1-py3-none-any.whl (590 kB)\n",
            "\u001b[2K   \u001b[90m━━━━━━━━━━━━━━━━━━━━━━━━━━━━━━━━━━━━━━━━\u001b[0m \u001b[32m590.6/590.6 kB\u001b[0m \u001b[31m22.9 MB/s\u001b[0m eta \u001b[36m0:00:00\u001b[0m\n",
            "\u001b[?25hDownloading pyamg-5.2.1-cp311-cp311-manylinux_2_17_x86_64.manylinux2014_x86_64.whl (2.0 MB)\n",
            "\u001b[2K   \u001b[90m━━━━━━━━━━━━━━━━━━━━━━━━━━━━━━━━━━━━━━━━\u001b[0m \u001b[32m2.0/2.0 MB\u001b[0m \u001b[31m49.9 MB/s\u001b[0m eta \u001b[36m0:00:00\u001b[0m\n",
            "\u001b[?25hInstalling collected packages: emoji, xgboost, pyamg, pandas-dq, hvplot, autoviz\n",
            "  Attempting uninstall: xgboost\n",
            "    Found existing installation: xgboost 2.1.4\n",
            "    Uninstalling xgboost-2.1.4:\n",
            "      Successfully uninstalled xgboost-2.1.4\n",
            "Successfully installed autoviz-0.1.905 emoji-2.14.1 hvplot-0.11.2 pandas-dq-1.29 pyamg-5.2.1 xgboost-1.6.2\n"
          ]
        }
      ]
    },
    {
      "cell_type": "code",
      "execution_count": null,
      "metadata": {
        "colab": {
          "base_uri": "https://localhost:8080/",
          "height": 1000
        },
        "id": "1y8b8SkUzwkW",
        "outputId": "cc901755-7d57-4d1b-dbf7-56482843e383"
      },
      "outputs": [
        {
          "output_type": "stream",
          "name": "stdout",
          "text": [
            "Shape: (600, 15)\n",
            "Missing Values:\n",
            " SSC_GPA                    0\n",
            "HSC_GPA                    3\n",
            "Family_Economy             0\n",
            "Residence                  0\n",
            "Family_Education           0\n",
            "Politics                   0\n",
            "Social_Media_Engagement    0\n",
            "Residence_with_Family      0\n",
            "Duration_of_Study          0\n",
            "College_Location           0\n",
            "School_Location            0\n",
            "Bad_Habits                 0\n",
            "Relationship               0\n",
            "External_Factors           0\n",
            "University                 0\n",
            "dtype: int64\n",
            "Duplicates: 95\n",
            "Target Distribution:\n",
            " University\n",
            "1    0.566667\n",
            "0    0.433333\n",
            "Name: proportion, dtype: float64\n",
            "          SSC_GPA     HSC_GPA  Family_Economy   Residence  Family_Education  \\\n",
            "count  600.000000  597.000000      600.000000  600.000000        600.000000   \n",
            "mean     4.853467    4.793032        2.673333    0.816667          0.866667   \n",
            "std      0.322999    0.382941        0.887657    0.387262          0.340218   \n",
            "min      2.990000    3.170000        1.000000    0.000000          0.000000   \n",
            "25%      4.890000    4.750000        2.000000    1.000000          1.000000   \n",
            "50%      5.000000    5.000000        3.000000    1.000000          1.000000   \n",
            "75%      5.000000    5.000000        3.000000    1.000000          1.000000   \n",
            "max      5.000000    5.000000        4.000000    1.000000          1.000000   \n",
            "\n",
            "         Politics  Social_Media_Engagement  Residence_with_Family  \\\n",
            "count  600.000000               600.000000             600.000000   \n",
            "mean     0.031667                 2.828333               0.633333   \n",
            "std      0.175257                 1.327328               0.482296   \n",
            "min      0.000000                 1.000000               0.000000   \n",
            "25%      0.000000                 1.000000               0.000000   \n",
            "50%      0.000000                 3.000000               1.000000   \n",
            "75%      0.000000                 4.000000               1.000000   \n",
            "max      1.000000                 5.000000               1.000000   \n",
            "\n",
            "       Duration_of_Study  College_Location  School_Location  Bad_Habits  \\\n",
            "count         600.000000        600.000000       600.000000  600.000000   \n",
            "mean            5.586667          0.906667         0.653333    0.066667   \n",
            "std             2.045188          0.291142         0.476306    0.249652   \n",
            "min             2.000000          0.000000         0.000000    0.000000   \n",
            "25%             4.000000          1.000000         0.000000    0.000000   \n",
            "50%             6.000000          1.000000         1.000000    0.000000   \n",
            "75%             8.000000          1.000000         1.000000    0.000000   \n",
            "max             8.000000          1.000000         1.000000    1.000000   \n",
            "\n",
            "       Relationship  External_Factors  University  \n",
            "count    600.000000        600.000000  600.000000  \n",
            "mean       0.231667          0.486667    0.566667  \n",
            "std        0.422249          0.500239    0.495949  \n",
            "min        0.000000          0.000000    0.000000  \n",
            "25%        0.000000          0.000000    0.000000  \n",
            "50%        0.000000          0.000000    1.000000  \n",
            "75%        0.000000          1.000000    1.000000  \n",
            "max        1.000000          1.000000    1.000000  \n"
          ]
        },
        {
          "output_type": "display_data",
          "data": {
            "text/plain": [
              "<Figure size 640x480 with 1 Axes>"
            ],
            "image/png": "[encoded data removed]"
          },
          "metadata": {}
        }
      ],
      "source": [
        "import pandas as pd\n",
        "import numpy as np\n",
        "import matplotlib.pyplot as plt\n",
        "import seaborn as sns\n",
        "\n",
        "# Load data\n",
        "url = \"https://raw.githubusercontent.com/Ashfinn/admission-feature-analysis/refs/heads/main/Undergraduate%20Admission%20Test%20Survey%20in%20Bangladesh.csv\"\n",
        "df = pd.read_csv(url)\n",
        "\n",
        "# Basic exploration\n",
        "print(\"Shape:\", df.shape)\n",
        "print(\"Missing Values:\\n\", df.isnull().sum())\n",
        "print(\"Duplicates:\", df.duplicated().sum())\n",
        "print(\"Target Distribution:\\n\", df['University'].value_counts(normalize=True))\n",
        "print(df.describe())\n",
        "\n",
        "# Visualize target distribution\n",
        "sns.countplot(x='University', data=df)\n",
        "plt.title(\"Admission Outcome Distribution\")\n",
        "plt.show()"
      ]
    },
    {
      "cell_type": "code",
      "source": [
        "from autoviz.AutoViz_Class import AutoViz_Class\n",
        "import matplotlib.pyplot as plt\n",
        "import seaborn as sns\n",
        "\n",
        "\n",
        "# Initialize AutoViz\n",
        "AV = AutoViz_Class()\n",
        "%matplotlib inline\n",
        "# Run AutoViz\n",
        "report = AV.AutoViz(\n",
        "    filename=\"\",  # Leave empty if using a DataFrame\n",
        "    dfte=df,      # Your DataFrame\n",
        "    chart_format=\"png\",  # Try \"svg\", \"png\", or \"jpg\"\n",
        "    verbose=0     # Try verbose=1 or 2\n",
        ")"
      ],
      "metadata": {
        "colab": {
          "base_uri": "https://localhost:8080/",
          "height": 1000
        },
        "id": "5f0SM9gSPOZY",
        "outputId": "a59c188b-f130-48e8-f62f-d2c937eff1dd"
      },
      "execution_count": null,
      "outputs": []
    },
    {
      "cell_type": "markdown",
      "source": [
        "# Base"
      ],
      "metadata": {
        "id": "BR8tsoYwYofZ"
      }
    },
    {
      "cell_type": "markdown",
      "source": [
        "## Random Forest"
      ],
      "metadata": {
        "id": "WHNUgFnXZUku"
      }
    },
    {
      "cell_type": "code",
      "source": [
        "import pandas as pd\n",
        "import numpy as np\n",
        "from sklearn.model_selection import train_test_split, cross_val_score\n",
        "from sklearn.ensemble import RandomForestClassifier\n",
        "from sklearn.metrics import accuracy_score, roc_auc_score\n",
        "from sklearn.preprocessing import LabelEncoder\n",
        "from sklearn.impute import SimpleImputer # Importing SimpleImputer to handle missing values\n",
        "\n",
        "# Load the dataset\n",
        "url = \"https://raw.githubusercontent.com/Ashfinn/admission-feature-analysis/refs/heads/main/Undergraduate%20Admission%20Test%20Survey%20in%20Bangladesh.csv\"\n",
        "df = pd.read_csv(url)\n",
        "\n",
        "# Encode the target variable\n",
        "le = LabelEncoder()\n",
        "df['University'] = le.fit_transform(df['University'])\n",
        "\n",
        "# Separate features and target\n",
        "X = df.drop('University', axis=1)\n",
        "y = df['University']\n",
        "\n",
        "# Step 1: Handle missing values (impute with median)\n",
        "imputer = SimpleImputer(strategy='median')  # You can change to 'mean', 'most_frequent', or constant (e.g., fill_value=123)\n",
        "X_imputed = pd.DataFrame(imputer.fit_transform(X), columns=X.columns) # Imputing missing values with median\n",
        "\n",
        "# Step 3: Drop duplicates based on features\n",
        "df_combined = pd.concat([X_imputed, y], axis=1).drop_duplicates(subset=X_imputed.columns) # Using imputed data to drop duplicates\n",
        "X_clean = df_combined.drop('University', axis=1)\n",
        "y_clean = df_combined['University']\n",
        "\n",
        "# Train-test split\n",
        "X_train, X_test, y_train, y_test = train_test_split(X_clean, y_clean, test_size=0.2, random_state=42)\n",
        "\n",
        "# Model Training and Evaluation\n",
        "rf = RandomForestClassifier(random_state=42)  # You can tune hyperparameters here\n",
        "rf.fit(X_train, y_train)\n",
        "\n",
        "# Tuned Test Accuracy\n",
        "tuned_test_accuracy = accuracy_score(y_test, rf.predict(X_test))\n",
        "print(f\"Tuned Test Accuracy: {tuned_test_accuracy}\")\n",
        "\n",
        "# Tuned Test ROC-AUC\n",
        "tuned_test_roc_auc = roc_auc_score(y_test, rf.predict_proba(X_test)[:, 1])\n",
        "print(f\"Tuned Test ROC-AUC: {tuned_test_roc_auc}\")\n",
        "\n",
        "# Full CV ROC-AUC (example using 5-fold cross-validation)\n",
        "cv_roc_auc = cross_val_score(rf, X_clean, y_clean, cv=5, scoring='roc_auc') # Using cleaned data for cross-validation\n",
        "print(f\"Full CV ROC-AUC: {np.mean(cv_roc_auc)}\")"
      ],
      "metadata": {
        "colab": {
          "base_uri": "https://localhost:8080/"
        },
        "id": "sB9_0RMiN2-4",
        "outputId": "ac9b9acd-eb8c-44ef-8579-1e35dd940b7b"
      },
      "execution_count": null,
      "outputs": [
        {
          "output_type": "stream",
          "name": "stdout",
          "text": [
            "Tuned Test Accuracy: 0.7878787878787878\n",
            "Tuned Test ROC-AUC: 0.8533057851239669\n",
            "Full CV ROC-AUC: 0.7891836734693877\n"
          ]
        }
      ]
    },
    {
      "cell_type": "markdown",
      "source": [
        "# Feature Enginnering"
      ],
      "metadata": {
        "id": "1CLXiHW9ZW8F"
      }
    },
    {
      "cell_type": "markdown",
      "source": [
        "## Random Forest"
      ],
      "metadata": {
        "id": "4VLLqqugZZw2"
      }
    },
    {
      "cell_type": "code",
      "source": [
        "import pandas as pd\n",
        "import numpy as np\n",
        "from sklearn.model_selection import train_test_split, cross_val_score\n",
        "from sklearn.preprocessing import StandardScaler\n",
        "from sklearn.ensemble import RandomForestClassifier\n",
        "from sklearn.metrics import roc_auc_score, accuracy_score, confusion_matrix\n",
        "import seaborn as sns\n",
        "import matplotlib.pyplot as plt\n",
        "import pandas as pd\n",
        "import numpy as np\n",
        "from sklearn.model_selection import train_test_split, cross_val_score\n",
        "from sklearn.preprocessing import StandardScaler\n",
        "from sklearn.ensemble import RandomForestClassifier\n",
        "from sklearn.metrics import roc_auc_score, accuracy_score, confusion_matrix\n",
        "import seaborn as sns\n",
        "import matplotlib.pyplot as plt\n",
        "from sklearn.impute import SimpleImputer\n",
        "from sklearn.model_selection import StratifiedKFold\n",
        "\n",
        "url = \"https://raw.githubusercontent.com/Ashfinn/admission-feature-analysis/main/Undergraduate%20Admission%20Test%20Survey%20in%20Bangladesh.csv\"\n",
        "\n",
        "df = pd.read_csv(url)\n",
        "X = df.drop(columns=['University'])\n",
        "y = df['University']\n",
        "from sklearn.impute import SimpleImputer\n",
        "imputer = SimpleImputer(strategy='median')\n",
        "X = pd.DataFrame(imputer.fit_transform(X), columns=X.columns)\n",
        "X = pd.get_dummies(X, columns=['Residence'], drop_first=True)\n",
        "\n",
        "# Your feature engineering\n",
        "X_fe = X.copy()\n",
        "X_fe['Average_GPA'] = (X_fe['SSC_GPA'] + X_fe['HSC_GPA']) / 2\n",
        "X_fe['GPA_Diff'] = X_fe['HSC_GPA'] - X_fe['SSC_GPA']\n",
        "X_fe['Study_Efficiency'] = X_fe['Duration_of_Study'] / X_fe['Average_GPA'].replace(0, 1e-6)\n",
        "X_fe['Social_Impact'] = X_fe['Social_Media_Engagement'] * X_fe['Average_GPA']\n",
        "X_fe['Family_Support'] = X_fe['Family_Economy'] + X_fe['Family_Education']\n",
        "X_fe['Study_Social_Ratio'] = X_fe['Duration_of_Study'] / X_fe['Social_Media_Engagement'].replace(0, 1e-6)\n",
        "X_fe = X_fe.drop(columns=['SSC_GPA', 'HSC_GPA', 'Social_Media_Engagement', 'External_Factors', 'Politics', 'Duration_of_Study', 'Family_Education'])\n",
        "\n",
        "# Clean duplicates\n",
        "df_combined = pd.concat([X_fe, y], axis=1).drop_duplicates(subset=X_fe.columns)\n",
        "X_fe_clean = df_combined.drop(columns=['University'])\n",
        "y_clean = df_combined['University']\n",
        "\n",
        "# Split and scale\n",
        "X_train, X_test, y_train, y_test = train_test_split(X_fe_clean, y_clean, test_size=0.2, random_state=42, stratify=y_clean)\n",
        "scaler = StandardScaler()\n",
        "X_train_scaled = scaler.fit_transform(X_train)\n",
        "X_test_scaled = scaler.transform(X_test)\n",
        "\n",
        "# Optimized Random Forest (reduced depth, increased regularization)\n",
        "rf_final = RandomForestClassifier(n_estimators=100, max_depth=8, min_samples_split=5, min_samples_leaf=3, random_state=42)\n",
        "rf_final.fit(X_train_scaled, y_train)\n",
        "\n",
        "# Evaluate test\n",
        "y_pred = rf_final.predict(X_test_scaled)\n",
        "y_prob = rf_final.predict_proba(X_test_scaled)[:, 1]\n",
        "test_accuracy = accuracy_score(y_test, y_pred)\n",
        "test_roc_auc = roc_auc_score(y_test, y_prob)\n",
        "print(f\"Final Test Accuracy: {test_accuracy:.4f}\")\n",
        "print(f\"Final Test ROC-AUC: {test_roc_auc:.4f}\")\n",
        "\n",
        "# Cross-validation with 10 folds for stability\n",
        "from sklearn.model_selection import StratifiedKFold\n",
        "cv = StratifiedKFold(n_splits=10, shuffle=True, random_state=42)\n",
        "cv_scores = cross_val_score(rf_final, X_fe_clean, y_clean, cv=cv, scoring='roc_auc')\n",
        "print(f\"10-Fold CV ROC-AUC: {cv_scores.mean():.4f} (±{cv_scores.std():.4f})\")"
      ],
      "metadata": {
        "colab": {
          "base_uri": "https://localhost:8080/"
        },
        "id": "xD51PY-G1WYc",
        "outputId": "da3aabed-c0b6-485b-987f-e11b70795b3c"
      },
      "execution_count": null,
      "outputs": [
        {
          "output_type": "stream",
          "name": "stdout",
          "text": [
            "Final Test Accuracy: 0.7957\n",
            "Final Test ROC-AUC: 0.8609\n",
            "10-Fold CV ROC-AUC: 0.8647 (±0.0477)\n"
          ]
        }
      ]
    },
    {
      "cell_type": "markdown",
      "source": [
        "## Random Forest- ADABoost - XGBoost Comparison"
      ],
      "metadata": {
        "id": "MleEDPhMZkqv"
      }
    },
    {
      "cell_type": "code",
      "source": [
        "import pandas as pd\n",
        "import numpy as np\n",
        "from sklearn.model_selection import train_test_split, cross_val_score, StratifiedKFold\n",
        "from sklearn.preprocessing import StandardScaler\n",
        "from sklearn.ensemble import RandomForestClassifier, AdaBoostClassifier\n",
        "from sklearn.metrics import roc_auc_score, accuracy_score, confusion_matrix\n",
        "from sklearn.impute import SimpleImputer\n",
        "from sklearn.tree import DecisionTreeClassifier  # For AdaBoost base estimator\n",
        "import seaborn as sns\n",
        "import matplotlib.pyplot as plt\n",
        "import xgboost as xgb\n",
        "\n",
        "# Load dataset\n",
        "url = \"https://raw.githubusercontent.com/Ashfinn/admission-feature-analysis/main/Undergraduate%20Admission%20Test%20Survey%20in%20Bangladesh.csv\"\n",
        "df = pd.read_csv(url)\n",
        "X = df.drop(columns=['University'])\n",
        "y = df['University']\n",
        "\n",
        "# Impute missing values\n",
        "imputer = SimpleImputer(strategy='median')\n",
        "X = pd.DataFrame(imputer.fit_transform(X), columns=X.columns)\n",
        "X = pd.get_dummies(X, columns=['Residence'], drop_first=True)\n",
        "\n",
        "# Feature engineering\n",
        "X_fe = X.copy()\n",
        "X_fe['Average_GPA'] = (X_fe['SSC_GPA'] + X_fe['HSC_GPA']) / 2\n",
        "X_fe['GPA_Diff'] = X_fe['HSC_GPA'] - X_fe['SSC_GPA']\n",
        "X_fe['Study_Efficiency'] = X_fe['Duration_of_Study'] / X_fe['Average_GPA'].replace(0, 1e-6)\n",
        "X_fe['Social_Impact'] = X_fe['Social_Media_Engagement'] * X_fe['Average_GPA']\n",
        "X_fe['Family_Support'] = X_fe['Family_Economy'] + X_fe['Family_Education']\n",
        "X_fe['Study_Social_Ratio'] = X_fe['Duration_of_Study'] / X_fe['Social_Media_Engagement'].replace(0, 1e-6)\n",
        "X_fe = X_fe.drop(columns=['SSC_GPA', 'HSC_GPA', 'Social_Media_Engagement', 'External_Factors', 'Politics', 'Duration_of_Study', 'Family_Education'])\n",
        "\n",
        "# Clean duplicates\n",
        "df_combined = pd.concat([X_fe, y], axis=1).drop_duplicates(subset=X_fe.columns)\n",
        "X_fe_clean = df_combined.drop(columns=['University'])\n",
        "y_clean = df_combined['University']\n",
        "\n",
        "# Split and scale\n",
        "X_train, X_test, y_train, y_test = train_test_split(X_fe_clean, y_clean, test_size=0.2, random_state=42, stratify=y_clean)\n",
        "scaler = StandardScaler()\n",
        "X_train_scaled = scaler.fit_transform(X_train)\n",
        "X_test_scaled = scaler.transform(X_test)\n",
        "\n",
        "# Optimized Random Forest (for comparison)\n",
        "rf_final = RandomForestClassifier(n_estimators=100, max_depth=8, min_samples_split=5, min_samples_leaf=3, random_state=42)\n",
        "rf_final.fit(X_train_scaled, y_train)\n",
        "# Evaluate Random Forest (for comparison)\n",
        "rf_pred = rf_final.predict(X_test_scaled)\n",
        "rf_accuracy = accuracy_score(y_test, rf_pred)\n",
        "# Get probabilities for the positive class (assuming class 1 is positive)\n",
        "rf_roc_auc = roc_auc_score(y_test, rf_final.predict_proba(X_test_scaled)[:, 1], multi_class='ovr')  # Multiclass adjustment\n",
        "print(f\"Random Forest Test Accuracy: {rf_accuracy:.4f}\")\n",
        "print(f\"Random Forest Test ROC-AUC (OvR): {rf_roc_auc:.4f}\")\n",
        "\n",
        "# AdaBoost Classifier\n",
        "# Using a decision tree with max_depth=1 as the base estimator (default for AdaBoost)\n",
        "ada = AdaBoostClassifier(\n",
        "    estimator=DecisionTreeClassifier(max_depth=1),  # Weak learner\n",
        "    n_estimators=200,  # Number of boosting rounds\n",
        "    learning_rate=0.5,  # Default learning rate\n",
        "    random_state=42\n",
        ")\n",
        "ada.fit(X_train_scaled, y_train)\n",
        "\n",
        "# Evaluate AdaBoost\n",
        "ada_pred = ada.predict(X_test_scaled)\n",
        "ada_accuracy = accuracy_score(y_test, ada_pred)\n",
        "\n",
        "# Get probabilities for the positive class (assuming class 1 is positive)\n",
        "ada_probs = ada.predict_proba(X_test_scaled)[:, 1]  # Probabilities for class 1\n",
        "ada_roc_auc = roc_auc_score(y_test, ada_probs, multi_class='ovr')  # Multiclass adjustment\n",
        "\n",
        "print(f\"AdaBoost Test Accuracy: {ada_accuracy:.4f}\")\n",
        "print(f\"AdaBoost Test ROC-AUC (OvR): {ada_roc_auc:.4f}\")\n",
        "\n",
        "# Cross-validation for AdaBoost (10-fold)\n",
        "cv = StratifiedKFold(n_splits=10, shuffle=True, random_state=42)\n",
        "ada_cv_scores = cross_val_score(ada, X_fe_clean, y_clean, cv=cv, scoring='roc_auc_ovr')  # Multiclass adjustment\n",
        "print(f\"AdaBoost 10-Fold CV ROC-AUC (OvR): {ada_cv_scores.mean():.4f} (±{ada_cv_scores.std():.4f})\")\n",
        "\n",
        "# XGBoost Classifier\n",
        "xgb_model = xgb.XGBClassifier(\n",
        "    objective='multi:softprob',  # Multiclass classification with probabilities\n",
        "    num_class=len(np.unique(y_clean)),  # Number of unique classes in y\n",
        "    n_estimators=50,  # Number of trees\n",
        "    max_depth=3,  # Maximum depth of trees\n",
        "    learning_rate=0.1,  # Step size shrinkage\n",
        "    random_state=42,\n",
        "    eval_metric='mlogloss'  # Multiclass log loss for evaluation\n",
        ")\n",
        "xgb_model.fit(X_train_scaled, y_train)\n",
        "\n",
        "# Evaluate XGBoost\n",
        "# Get predicted probabilities for each class\n",
        "xgb_probs = xgb_model.predict_proba(X_test_scaled)\n",
        "\n",
        "# Get class labels with the highest probability (argmax)\n",
        "xgb_pred = np.argmax(xgb_probs, axis=1)\n",
        "\n",
        "xgb_accuracy = accuracy_score(y_test, xgb_pred)\n",
        "\n",
        "# Get probabilities for the positive class (assuming class 1 is positive)\n",
        "xgb_probs_positive_class = xgb_probs[:, 1]  # Select probabilities for class 1 only\n",
        "\n",
        "# Calculate ROC-AUC for binary classification (using probabilities for positive class)\n",
        "xgb_roc_auc = roc_auc_score(y_test, xgb_probs_positive_class)  # No need for multi_class='ovr'\n",
        "\n",
        "print(f\"XGBoost Test Accuracy: {xgb_accuracy:.4f}\")\n",
        "print(f\"XGBoost Test ROC-AUC: {xgb_roc_auc:.4f}\")"
      ],
      "metadata": {
        "colab": {
          "base_uri": "https://localhost:8080/"
        },
        "id": "Gd4uFK8HQ2bM",
        "outputId": "bcc2b508-a9b4-46cf-eb6d-69ce282c66fa"
      },
      "execution_count": null,
      "outputs": [
        {
          "output_type": "stream",
          "name": "stdout",
          "text": [
            "Random Forest Test Accuracy: 0.7957\n",
            "Random Forest Test ROC-AUC (OvR): 0.8609\n",
            "AdaBoost Test Accuracy: 0.7957\n",
            "AdaBoost Test ROC-AUC (OvR): 0.8484\n",
            "AdaBoost 10-Fold CV ROC-AUC (OvR): 0.8571 (±0.0537)\n",
            "XGBoost Test Accuracy: 0.8065\n",
            "XGBoost Test ROC-AUC: 0.8484\n"
          ]
        }
      ]
    },
    {
      "source": [
        "from sklearn.model_selection import GridSearchCV\n",
        "param_grid = {\n",
        "    'n_estimators': [50, 100, 200],\n",
        "    'learning_rate': [0.01, 0.1, 0.5, 1.0],\n",
        "    'estimator__max_depth': [1, 2, 3]  # Changed 'base_estimator__' to 'estimator__'\n",
        "}\n",
        "ada = AdaBoostClassifier(estimator=DecisionTreeClassifier(), random_state=42) # Changed 'base_estimator' to 'estimator'\n",
        "grid_search = GridSearchCV(ada, param_grid, cv=5, scoring='roc_auc_ovr', n_jobs=-1)\n",
        "grid_search.fit(X_train_scaled, y_train)\n",
        "print(f\"Best Params: {grid_search.best_params_}\")\n",
        "print(f\"Best CV ROC-AUC: {grid_search.best_score_:.4f}\")"
      ],
      "cell_type": "code",
      "metadata": {
        "colab": {
          "base_uri": "https://localhost:8080/"
        },
        "id": "0sc8JyUtRYeW",
        "outputId": "1b339e8a-f084-41e0-f9b3-5d78ae69b543"
      },
      "execution_count": null,
      "outputs": [
        {
          "output_type": "stream",
          "name": "stdout",
          "text": [
            "Best Params: {'estimator__max_depth': 1, 'learning_rate': 0.5, 'n_estimators': 200}\n",
            "Best CV ROC-AUC: 0.8596\n"
          ]
        }
      ]
    },
    {
      "cell_type": "markdown",
      "source": [
        "## Random Forest- ADABoost - Tuned XGBoost Comparison"
      ],
      "metadata": {
        "id": "smGIsSi5dy7N"
      }
    },
    {
      "cell_type": "code",
      "source": [
        "import pandas as pd\n",
        "import numpy as np\n",
        "from sklearn.model_selection import train_test_split, cross_val_score, StratifiedKFold\n",
        "from sklearn.preprocessing import StandardScaler\n",
        "from sklearn.ensemble import RandomForestClassifier, AdaBoostClassifier\n",
        "from sklearn.metrics import roc_auc_score, accuracy_score, confusion_matrix\n",
        "from sklearn.impute import SimpleImputer\n",
        "from sklearn.tree import DecisionTreeClassifier\n",
        "import xgboost as xgb\n",
        "import seaborn as sns\n",
        "import matplotlib.pyplot as plt\n",
        "\n",
        "# Load dataset\n",
        "url = \"https://raw.githubusercontent.com/Ashfinn/admission-feature-analysis/main/Undergraduate%20Admission%20Test%20Survey%20in%20Bangladesh.csv\"\n",
        "df = pd.read_csv(url)\n",
        "X = df.drop(columns=['University'])\n",
        "y = df['University']\n",
        "\n",
        "# Encode target for XGBoost (XGBoost requires numeric labels starting from 0)\n",
        "from sklearn.preprocessing import LabelEncoder\n",
        "le = LabelEncoder()\n",
        "y = le.fit_transform(y)  # Convert University to numeric labels\n",
        "\n",
        "# Impute missing values\n",
        "imputer = SimpleImputer(strategy='median')\n",
        "X = pd.DataFrame(imputer.fit_transform(X), columns=X.columns)\n",
        "X = pd.get_dummies(X, columns=['Residence'], drop_first=True)\n",
        "\n",
        "# Feature engineering\n",
        "X_fe = X.copy()\n",
        "X_fe['Average_GPA'] = (X_fe['SSC_GPA'] + X_fe['HSC_GPA']) / 2\n",
        "X_fe['GPA_Diff'] = X_fe['HSC_GPA'] - X_fe['SSC_GPA']\n",
        "X_fe['Study_Efficiency'] = X_fe['Duration_of_Study'] / X_fe['Average_GPA'].replace(0, 1e-6)\n",
        "X_fe['Social_Impact'] = X_fe['Social_Media_Engagement'] * X_fe['Average_GPA']\n",
        "X_fe['Family_Support'] = X_fe['Family_Economy'] + X_fe['Family_Education']\n",
        "X_fe['Study_Social_Ratio'] = X_fe['Duration_of_Study'] / X_fe['Social_Media_Engagement'].replace(0, 1e-6)\n",
        "X_fe = X_fe.drop(columns=['SSC_GPA', 'HSC_GPA', 'Social_Media_Engagement', 'External_Factors', 'Politics', 'Duration_of_Study', 'Family_Education'])\n",
        "\n",
        "# Clean duplicates\n",
        "df_combined = pd.concat([X_fe, pd.Series(y, name='University')], axis=1).drop_duplicates(subset=X_fe.columns)\n",
        "X_fe_clean = df_combined.drop(columns=['University'])\n",
        "y_clean = df_combined['University']\n",
        "\n",
        "# Split and scale\n",
        "X_train, X_test, y_train, y_test = train_test_split(X_fe_clean, y_clean, test_size=0.2, random_state=42, stratify=y_clean)\n",
        "scaler = StandardScaler()\n",
        "X_train_scaled = scaler.fit_transform(X_train)\n",
        "X_test_scaled = scaler.transform(X_test)\n",
        "\n",
        "# Evaluate Random Forest (for comparison)\n",
        "rf_pred = rf_final.predict(X_test_scaled)\n",
        "rf_accuracy = accuracy_score(y_test, rf_pred)\n",
        "# Get probabilities for the positive class (assuming class 1 is positive)\n",
        "rf_probs = rf_final.predict_proba(X_test_scaled)[:, 1]  # Select probabilities for class 1 only\n",
        "# Calculate ROC-AUC for binary classification\n",
        "rf_roc_auc = roc_auc_score(y_test, rf_probs)  # No need for multi_class='ovr' for binary case\n",
        "\n",
        "print(f\"Random Forest Test Accuracy: {rf_accuracy:.4f}\")\n",
        "print(f\"Random Forest Test ROC-AUC: {rf_roc_auc:.4f}\")\n",
        "\n",
        "# Tuned AdaBoost (for comparison)\n",
        "ada_tuned = AdaBoostClassifier(\n",
        "    estimator=DecisionTreeClassifier(max_depth=1),\n",
        "    n_estimators=200,\n",
        "    learning_rate=0.5,\n",
        "    random_state=42\n",
        ")\n",
        "ada_tuned.fit(X_train_scaled, y_train)\n",
        "# Evaluate AdaBoost\n",
        "ada_pred = ada_tuned.predict(X_test_scaled)\n",
        "ada_accuracy = accuracy_score(y_test, ada_pred)\n",
        "\n",
        "# Get probabilities for the positive class (assuming class 1 is positive)\n",
        "ada_probs = ada_tuned.predict_proba(X_test_scaled)[:, 1]  # Probabilities for class 1 only\n",
        "\n",
        "# Calculate ROC-AUC for binary classification\n",
        "ada_roc_auc = roc_auc_score(y_test, ada_probs)  # No need for multi_class='ovr' for binary case\n",
        "\n",
        "print(f\"AdaBoost Test Accuracy: {ada_accuracy:.4f}\")\n",
        "print(f\"AdaBoost Test ROC-AUC: {ada_roc_auc:.4f}\")\n",
        "\n",
        "# XGBoost Classifier\n",
        "xgb_model = xgb.XGBClassifier(\n",
        "    objective='multi:softprob',  # Multiclass classification with probabilities\n",
        "    num_class=len(np.unique(y_clean)),  # Number of unique classes in y\n",
        "    n_estimators=100,  # Number of trees\n",
        "    max_depth=6,  # Maximum depth of trees\n",
        "    learning_rate=0.1,  # Step size shrinkage\n",
        "    random_state=42,\n",
        "    eval_metric='mlogloss'  # Multiclass log loss for evaluation\n",
        ")\n",
        "xgb_model.fit(X_train_scaled, y_train)\n",
        "\n",
        "# Evaluate XGBoost\n",
        "# Get predicted probabilities for each class\n",
        "xgb_probs = xgb_model.predict_proba(X_test_scaled)\n",
        "\n",
        "# Get class labels with the highest probability (argmax)\n",
        "xgb_pred = np.argmax(xgb_probs, axis=1)\n",
        "\n",
        "xgb_accuracy = accuracy_score(y_test, xgb_pred)\n",
        "\n",
        "# Get probabilities for the positive class (assuming class 1 is positive)\n",
        "xgb_probs_positive_class = xgb_probs[:, 1]  # Select probabilities for class 1 only\n",
        "\n",
        "# Calculate ROC-AUC for binary classification (using probabilities for positive class)\n",
        "xgb_roc_auc = roc_auc_score(y_test, xgb_probs_positive_class)  # No need for multi_class='ovr'\n",
        "\n",
        "print(f\"XGBoost Test Accuracy: {xgb_accuracy:.4f}\")\n",
        "print(f\"XGBoost Test ROC-AUC: {xgb_roc_auc:.4f}\")"
      ],
      "metadata": {
        "colab": {
          "base_uri": "https://localhost:8080/"
        },
        "id": "KdyAmEaCZzu8",
        "outputId": "8fc1b775-914f-428f-d785-ad9a0e5bd84f"
      },
      "execution_count": null,
      "outputs": [
        {
          "output_type": "stream",
          "name": "stdout",
          "text": [
            "Random Forest Test Accuracy: 0.7957\n",
            "Random Forest Test ROC-AUC: 0.8609\n",
            "AdaBoost Test Accuracy: 0.7957\n",
            "AdaBoost Test ROC-AUC: 0.8484\n",
            "XGBoost Test Accuracy: 0.8387\n",
            "XGBoost Test ROC-AUC: 0.8516\n"
          ]
        }
      ]
    },
    {
      "cell_type": "markdown",
      "source": [
        "# Random Forest"
      ],
      "metadata": {
        "id": "A1JY4RcSwLOi"
      }
    },
    {
      "cell_type": "markdown",
      "source": [
        "Robust Scalar Without the Outliers"
      ],
      "metadata": {
        "id": "BSBkD_bMyKPq"
      }
    },
    {
      "cell_type": "code",
      "source": [
        "import pandas as pd\n",
        "import numpy as np\n",
        "from sklearn.model_selection import train_test_split, cross_val_score, StratifiedKFold\n",
        "from sklearn.preprocessing import StandardScaler, LabelEncoder\n",
        "from sklearn.ensemble import RandomForestClassifier, AdaBoostClassifier\n",
        "from sklearn.metrics import roc_auc_score, accuracy_score\n",
        "from sklearn.impute import SimpleImputer\n",
        "from sklearn.tree import DecisionTreeClassifier\n",
        "import xgboost as xgb\n",
        "\n",
        "# Load dataset\n",
        "url = \"https://raw.githubusercontent.com/Ashfinn/admission-feature-analysis/main/Undergraduate%20Admission%20Test%20Survey%20in%20Bangladesh.csv\"\n",
        "df = pd.read_csv(url)\n",
        "X = df.drop(columns=['University'])\n",
        "y = df['University']\n",
        "\n",
        "# Encode target\n",
        "le = LabelEncoder()\n",
        "y = le.fit_transform(y)\n",
        "\n",
        "# Impute missing values\n",
        "imputer = SimpleImputer(strategy='median')\n",
        "X = pd.DataFrame(imputer.fit_transform(X), columns=X.columns)\n",
        "X = pd.get_dummies(X, columns=['Residence'], drop_first=True)\n",
        "\n",
        "# Feature engineering\n",
        "X_fe = X.copy()\n",
        "X_fe['Average_GPA'] = (X_fe['SSC_GPA'] + X_fe['HSC_GPA']) / 2\n",
        "X_fe['GPA_Diff'] = X_fe['HSC_GPA'] - X_fe['SSC_GPA']\n",
        "X_fe['Study_Efficiency'] = X_fe['Duration_of_Study'] / X_fe['Average_GPA'].replace(0, 1e-6)\n",
        "X_fe['Social_Impact'] = X_fe['Social_Media_Engagement'] * X_fe['Average_GPA']\n",
        "X_fe['Family_Support'] = X_fe['Family_Economy'] + X_fe['Family_Education']\n",
        "X_fe['Study_Social_Ratio'] = X_fe['Duration_of_Study'] / X_fe['Social_Media_Engagement'].replace(0, 1e-6)\n",
        "X_fe = X_fe.drop(columns=['SSC_GPA', 'HSC_GPA', 'Social_Media_Engagement', 'External_Factors', 'Politics', 'Duration_of_Study', 'Family_Education'])\n",
        "\n",
        "# Clean duplicates\n",
        "df_combined = pd.concat([X_fe, pd.Series(y, name='University')], axis=1).drop_duplicates(subset=X_fe.columns)\n",
        "X_fe_clean = df_combined.drop(columns=['University'])\n",
        "y_clean = df_combined['University'].values.ravel()\n",
        "\n",
        "# Cap outliers\n",
        "continuous_features = ['Average_GPA', 'GPA_Diff', 'Study_Efficiency', 'Social_Impact', 'Family_Support', 'Study_Social_Ratio']\n",
        "for col in continuous_features:\n",
        "    Q1 = X_fe_clean[col].quantile(0.25)\n",
        "    Q3 = X_fe_clean[col].quantile(0.75)\n",
        "    IQR = Q3 - Q1\n",
        "    lower_bound = Q1 - 1.5 * IQR\n",
        "    upper_bound = Q3 + 1.5 * IQR\n",
        "    outliers_before = ((X_fe_clean[col] < lower_bound) | (X_fe_clean[col] > upper_bound)).sum()\n",
        "    X_fe_clean[col] = X_fe_clean[col].clip(lower=lower_bound, upper=upper_bound)\n",
        "    print(f\"Capped {outliers_before} outliers in {col}. Rows remain: {len(X_fe_clean)}\")\n",
        "\n",
        "# Split\n",
        "X_train, X_test, y_train, y_test = train_test_split(X_fe_clean, y_clean, test_size=0.2, random_state=42, stratify=y_clean)\n",
        "y_train = y_train.ravel()\n",
        "y_test = y_test.ravel()\n",
        "\n",
        "from sklearn.preprocessing import RobustScaler\n",
        "scaler = RobustScaler()\n",
        "\n",
        "X_train_scaled = scaler.fit_transform(X_train)\n",
        "X_test_scaled = scaler.transform(X_test)\n",
        "\n",
        "# Random Forest\n",
        "rf_final = RandomForestClassifier(n_estimators=100, max_depth=8, min_samples_split=5, min_samples_leaf=3, random_state=42)\n",
        "rf_final.fit(X_train_scaled, y_train)\n",
        "rf_pred = rf_final.predict(X_test_scaled)\n",
        "rf_accuracy = accuracy_score(y_test, rf_pred)\n",
        "rf_probs = rf_final.predict_proba(X_test_scaled)\n",
        "rf_roc_auc = roc_auc_score(y_test, rf_probs[:, 1])  # Binary ROC-AUC\n",
        "print(f\"Random Forest Test Accuracy: {rf_accuracy:.4f}\")\n",
        "print(f\"Random Forest Test ROC-AUC: {rf_roc_auc:.4f}\")"
      ],
      "metadata": {
        "id": "25QbSskwiieI",
        "colab": {
          "base_uri": "https://localhost:8080/"
        },
        "outputId": "e96e5d54-14a6-473b-9e57-f277f583968e"
      },
      "execution_count": null,
      "outputs": [
        {
          "output_type": "stream",
          "name": "stdout",
          "text": [
            "Capped 29 outliers in Average_GPA. Rows remain: 461\n",
            "Capped 131 outliers in GPA_Diff. Rows remain: 461\n",
            "Capped 0 outliers in Study_Efficiency. Rows remain: 461\n",
            "Capped 0 outliers in Social_Impact. Rows remain: 461\n",
            "Capped 27 outliers in Family_Support. Rows remain: 461\n",
            "Capped 86 outliers in Study_Social_Ratio. Rows remain: 461\n",
            "Random Forest Test Accuracy: 0.8065\n",
            "Random Forest Test ROC-AUC: 0.8633\n"
          ]
        }
      ]
    },
    {
      "cell_type": "markdown",
      "source": [
        "# ADABoost\n"
      ],
      "metadata": {
        "id": "ZyzFGFq_wNoD"
      }
    },
    {
      "cell_type": "markdown",
      "source": [
        "Standard Scaler With the Outliers"
      ],
      "metadata": {
        "id": "3JuVqVf0zBaO"
      }
    },
    {
      "cell_type": "code",
      "source": [
        "import pandas as pd\n",
        "import numpy as np\n",
        "from sklearn.model_selection import train_test_split, cross_val_score, StratifiedKFold\n",
        "from sklearn.preprocessing import StandardScaler, LabelEncoder\n",
        "from sklearn.ensemble import RandomForestClassifier, AdaBoostClassifier\n",
        "from sklearn.metrics import roc_auc_score, accuracy_score\n",
        "from sklearn.impute import SimpleImputer\n",
        "from sklearn.tree import DecisionTreeClassifier\n",
        "import xgboost as xgb\n",
        "\n",
        "# Load dataset\n",
        "url = \"https://raw.githubusercontent.com/Ashfinn/admission-feature-analysis/main/Undergraduate%20Admission%20Test%20Survey%20in%20Bangladesh.csv\"\n",
        "df = pd.read_csv(url)\n",
        "X = df.drop(columns=['University'])\n",
        "y = df['University']\n",
        "\n",
        "# Encode target\n",
        "le = LabelEncoder()\n",
        "y = le.fit_transform(y)\n",
        "\n",
        "# Impute missing values\n",
        "imputer = SimpleImputer(strategy='median')\n",
        "X = pd.DataFrame(imputer.fit_transform(X), columns=X.columns)\n",
        "X = pd.get_dummies(X, columns=['Residence'], drop_first=True)\n",
        "\n",
        "# Feature engineering\n",
        "X_fe = X.copy()\n",
        "X_fe['Average_GPA'] = (X_fe['SSC_GPA'] + X_fe['HSC_GPA']) / 2\n",
        "X_fe['GPA_Diff'] = X_fe['HSC_GPA'] - X_fe['SSC_GPA']\n",
        "X_fe['Study_Efficiency'] = X_fe['Duration_of_Study'] / X_fe['Average_GPA'].replace(0, 1e-6)\n",
        "X_fe['Social_Impact'] = X_fe['Social_Media_Engagement'] * X_fe['Average_GPA']\n",
        "X_fe['Family_Support'] = X_fe['Family_Economy'] + X_fe['Family_Education']\n",
        "X_fe['Study_Social_Ratio'] = X_fe['Duration_of_Study'] / X_fe['Social_Media_Engagement'].replace(0, 1e-6)\n",
        "X_fe = X_fe.drop(columns=['SSC_GPA', 'HSC_GPA', 'Social_Media_Engagement', 'External_Factors', 'Politics', 'Duration_of_Study', 'Family_Education'])\n",
        "\n",
        "# Clean duplicates\n",
        "df_combined = pd.concat([X_fe, pd.Series(y, name='University')], axis=1).drop_duplicates(subset=X_fe.columns)\n",
        "X_fe_clean = df_combined.drop(columns=['University'])\n",
        "y_clean = df_combined['University'].values.ravel()\n",
        "\n",
        "# Split\n",
        "X_train, X_test, y_train, y_test = train_test_split(X_fe_clean, y_clean, test_size=0.2, random_state=42, stratify=y_clean)\n",
        "y_train = y_train.ravel()\n",
        "y_test = y_test.ravel()\n",
        "\n",
        "# Scale features\n",
        "scaler = StandardScaler()\n",
        "X_train_scaled = scaler.fit_transform(X_train)\n",
        "X_test_scaled = scaler.transform(X_test)\n",
        "\n",
        "# Tuned AdaBoost\n",
        "ada_tuned = AdaBoostClassifier(\n",
        "    estimator=DecisionTreeClassifier(max_depth=1),\n",
        "    n_estimators=200,\n",
        "    learning_rate=0.5,\n",
        "    random_state=42\n",
        ")\n",
        "ada_tuned.fit(X_train_scaled, y_train)\n",
        "ada_pred = ada_tuned.predict(X_test_scaled)\n",
        "ada_accuracy = accuracy_score(y_test, ada_pred)\n",
        "ada_probs = ada_tuned.predict_proba(X_test_scaled)\n",
        "ada_roc_auc = roc_auc_score(y_test, ada_probs[:, 1])\n",
        "print(f\"AdaBoost Test Accuracy: {ada_accuracy:.4f}\")\n",
        "print(f\"AdaBoost Test ROC-AUC (OvR): {ada_roc_auc:.4f}\")"
      ],
      "metadata": {
        "id": "tECazZ6PwPnn",
        "colab": {
          "base_uri": "https://localhost:8080/"
        },
        "outputId": "9e380e3e-1453-4288-da73-b92d4eb712e7"
      },
      "execution_count": null,
      "outputs": [
        {
          "output_type": "stream",
          "name": "stdout",
          "text": [
            "AdaBoost Test Accuracy: 0.7957\n",
            "AdaBoost Test ROC-AUC (OvR): 0.8484\n"
          ]
        }
      ]
    },
    {
      "cell_type": "markdown",
      "source": [
        "# XGBoost"
      ],
      "metadata": {
        "id": "8NPitM38wRsw"
      }
    },
    {
      "cell_type": "markdown",
      "source": [
        "Standard Scaler with the Outliers"
      ],
      "metadata": {
        "id": "pg2RVvO_zUwX"
      }
    },
    {
      "cell_type": "code",
      "source": [
        "import pandas as pd\n",
        "import numpy as np\n",
        "from sklearn.model_selection import train_test_split, cross_val_score, StratifiedKFold\n",
        "from sklearn.preprocessing import StandardScaler, LabelEncoder\n",
        "from sklearn.ensemble import RandomForestClassifier, AdaBoostClassifier\n",
        "from sklearn.metrics import roc_auc_score, accuracy_score\n",
        "from sklearn.impute import SimpleImputer\n",
        "from sklearn.tree import DecisionTreeClassifier\n",
        "import xgboost as xgb\n",
        "\n",
        "# Load dataset\n",
        "url = \"https://raw.githubusercontent.com/Ashfinn/admission-feature-analysis/main/Undergraduate%20Admission%20Test%20Survey%20in%20Bangladesh.csv\"\n",
        "df = pd.read_csv(url)\n",
        "X = df.drop(columns=['University'])\n",
        "y = df['University']\n",
        "\n",
        "# Encode target\n",
        "le = LabelEncoder()\n",
        "y = le.fit_transform(y)\n",
        "\n",
        "# Impute missing values\n",
        "imputer = SimpleImputer(strategy='median')\n",
        "X = pd.DataFrame(imputer.fit_transform(X), columns=X.columns)\n",
        "X = pd.get_dummies(X, columns=['Residence'], drop_first=True)\n",
        "\n",
        "# Feature engineering\n",
        "X_fe = X.copy()\n",
        "X_fe['Average_GPA'] = (X_fe['SSC_GPA'] + X_fe['HSC_GPA']) / 2\n",
        "X_fe['GPA_Diff'] = X_fe['HSC_GPA'] - X_fe['SSC_GPA']\n",
        "X_fe['Study_Efficiency'] = X_fe['Duration_of_Study'] / X_fe['Average_GPA'].replace(0, 1e-6)\n",
        "X_fe['Social_Impact'] = X_fe['Social_Media_Engagement'] * X_fe['Average_GPA']\n",
        "X_fe['Family_Support'] = X_fe['Family_Economy'] + X_fe['Family_Education']\n",
        "X_fe['Study_Social_Ratio'] = X_fe['Duration_of_Study'] / X_fe['Social_Media_Engagement'].replace(0, 1e-6)\n",
        "X_fe = X_fe.drop(columns=['SSC_GPA', 'HSC_GPA', 'Social_Media_Engagement', 'External_Factors', 'Politics', 'Duration_of_Study', 'Family_Education'])\n",
        "\n",
        "# Clean duplicates\n",
        "df_combined = pd.concat([X_fe, pd.Series(y, name='University')], axis=1).drop_duplicates(subset=X_fe.columns)\n",
        "X_fe_clean = df_combined.drop(columns=['University'])\n",
        "y_clean = df_combined['University'].values.ravel()\n",
        "\n",
        "# Split\n",
        "X_train, X_test, y_train, y_test = train_test_split(X_fe_clean, y_clean, test_size=0.2, random_state=42, stratify=y_clean)\n",
        "y_train = y_train.ravel()\n",
        "y_test = y_test.ravel()\n",
        "\n",
        "# Scale features\n",
        "scaler = RobustScaler()\n",
        "X_train_scaled = scaler.fit_transform(X_train)\n",
        "X_test_scaled = scaler.transform(X_test)\n",
        "\n",
        "# XGBoost\n",
        "xgb_model = xgb.XGBClassifier(\n",
        "    objective='multi:softprob',  # Multiclass classification with probabilities\n",
        "    num_class=len(np.unique(y_clean)),  # Number of unique classes in y\n",
        "    n_estimators=100,  # Number of trees\n",
        "    max_depth=6,  # Maximum depth of trees\n",
        "    learning_rate=0.1,  # Step size shrinkage\n",
        "    random_state=42,\n",
        "    eval_metric='mlogloss'  # Multiclass log loss for evaluation\n",
        ")\n",
        "xgb_model.fit(X_train_scaled, y_train)\n",
        "\n",
        "# Get predicted probabilities for each class\n",
        "xgb_probs = xgb_model.predict_proba(X_test_scaled)\n",
        "# Get class labels with the highest probability (argmax)\n",
        "xgb_pred = np.argmax(xgb_probs, axis=1) # Get predicted class labels instead of probabilities\n",
        "\n",
        "xgb_accuracy = accuracy_score(y_test, xgb_pred)  # Now using predicted labels\n",
        "xgb_roc_auc = roc_auc_score(y_test, xgb_probs[:, 1])  # Using probabilities for ROC AUC\n",
        "print(f\"XGBoost Test Accuracy: {xgb_accuracy:.4f}\")\n",
        "print(f\"XGBoost Test ROC-AUC (OvR): {xgb_roc_auc:.4f}\")"
      ],
      "metadata": {
        "colab": {
          "base_uri": "https://localhost:8080/"
        },
        "id": "FwIBI4RWfdeR",
        "outputId": "8bbaeba1-2f0d-4e8e-e6ae-28b39d88108b"
      },
      "execution_count": null,
      "outputs": [
        {
          "output_type": "stream",
          "name": "stdout",
          "text": [
            "XGBoost Test Accuracy: 0.8387\n",
            "XGBoost Test ROC-AUC (OvR): 0.8516\n"
          ]
        }
      ]
    },
    {
      "cell_type": "code",
      "source": [],
      "metadata": {
        "id": "JglVA1-1jAzh"
      },
      "execution_count": null,
      "outputs": []
    }
  ]
}